{
 "cells": [
  {
   "cell_type": "code",
   "execution_count": 74,
   "metadata": {},
   "outputs": [
    {
     "name": "stdout",
     "output_type": "stream",
     "text": [
      "10-2019\n",
      "Paul Dale of Sierra Club met with Arciero and Eldridge.  They had follow up questions about impact of Benson bill on cost of a gallon of gasoline.  Laura S got this info from Jonah of Climate X-Change and provided to Paul, who passed along to legislators.\n",
      "1/29/19.  Sue & Gilda (MOF) in person.\n",
      "Good meeting, very supportive.  Subsequently co-sponsored!\n",
      "Lora\n",
      "Thank you note for previous support sent in October/November 2018\n",
      "2018? - Laura/Andy, local leaders are North Shore CCL, 350 and Fred Small\n",
      "Check with earlier pt person meeting with Fred Small said he would need to support. Need to confirm. Thank you note for previous support\n",
      "7/6/18 Marc B - group led by Rev. Fred Small \n",
      "he supports carbon pricing\n"
     ]
    }
   ],
   "source": [
    "from docx import Document\n",
    "input_doc = Document('/Users/bennysmith/Documents/Climate_Activism/reformatting_notes/Arciero_James.docx')\n",
    "# for table in input_doc.tables:\n",
    "#     for row in table.rows:\n",
    "#         for cell in row.cells:\n",
    "#             print(cell.paragraphs[0].text)\n",
    "tables = input_doc.tables\n",
    "left_list = []\n",
    "for row in tables[0].rows:\n",
    "    left_list.append(row.cells[0].paragraphs[0].text)\n",
    "# print('hello world')\n",
    "right_list = []\n",
    "for row in tables[0].rows:\n",
    "    right_list.append(row.cells[1].paragraphs[0].text)\n",
    "left_list = left_list[1:]\n",
    "right_list = right_list[1:]\n",
    "\n",
    "output_doc = Document()\n",
    "# paragraphs = []\n",
    "# for para in input.paragraphs:\n",
    "#     p = para.text\n",
    "#     paragraphs.append(p)\n",
    "\n",
    "# for item in paragraphs:\n",
    "#     output_doc.add_paragraph(item)\n",
    "\n",
    "font = output_doc.styles['Normal'].font\n",
    "font.name = 'Times New Roman'\n",
    "for i in range(len(left_list)):\n",
    "    p = output_doc.add_paragraph()\n",
    "    p.style = 'Normal'\n",
    "    r0 = p.add_run()\n",
    "    print(left_list[i])\n",
    "    r0.add_text('Meeting info (Date, means, coalition leaders, etc.): '+left_list[i])\n",
    "    r0.bold = True\n",
    "    bullets = output_doc.add_paragraph()\n",
    "    bullets.style = 'List Bullet'\n",
    "    r = bullets.add_run()\n",
    "    r.add_text(right_list[i]+'\\n')\n",
    "    print(right_list[i])\n",
    "output_doc.save('OutputDoc.docx')  \n",
    "    \n",
    "# for entry in right_list:\n",
    "#     bullets = output_doc.add_paragraph()\n",
    "#     bullets.style = 'List Bullet'\n",
    "#     r = bullets.add_run()\n",
    "#     r.add_text(entry)\n",
    "# output_doc.save('OutputDoc.docx')\n",
    "\n",
    "# paragraphs = []\n",
    "# for para in input_doc.paragraphs:\n",
    "#     p = para.text\n",
    "#     paragraphs.append(p)\n",
    "\n",
    "# output_doc = Document()\n",
    "# for item in paragraphs:\n",
    "#     output.add_paragraph(item)\n",
    "\n",
    "    \n",
    "# get_para_data(output_doc, input_doc.paragraphs[3])\n",
    "\n",
    "# output.save('OutputDoc.docx')"
   ]
  },
  {
   "cell_type": "code",
   "execution_count": 47,
   "metadata": {},
   "outputs": [
    {
     "name": "stdout",
     "output_type": "stream",
     "text": [
      "a\n"
     ]
    }
   ],
   "source": []
  },
  {
   "cell_type": "code",
   "execution_count": null,
   "metadata": {},
   "outputs": [],
   "source": [
    "# https://www.codeproject.com/Questions/1230778/How-do-I-copy-the-contents-of-a-word-document"
   ]
  },
  {
   "cell_type": "code",
   "execution_count": 17,
   "metadata": {},
   "outputs": [
    {
     "ename": "TypeError",
     "evalue": "'enumerate' object is not subscriptable",
     "output_type": "error",
     "traceback": [
      "\u001b[0;31m---------------------------------------------------------------------------\u001b[0m",
      "\u001b[0;31mTypeError\u001b[0m                                 Traceback (most recent call last)",
      "\u001b[0;32m<ipython-input-17-876b178c5929>\u001b[0m in \u001b[0;36m<module>\u001b[0;34m\u001b[0m\n\u001b[0;32m----> 1\u001b[0;31m \u001b[0;32mfor\u001b[0m \u001b[0mi\u001b[0m \u001b[0;32min\u001b[0m \u001b[0ma\u001b[0m\u001b[0;34m[\u001b[0m\u001b[0;36m1\u001b[0m\u001b[0;34m]\u001b[0m\u001b[0;34m:\u001b[0m\u001b[0;34m\u001b[0m\u001b[0;34m\u001b[0m\u001b[0m\n\u001b[0m\u001b[1;32m      2\u001b[0m     \u001b[0mprint\u001b[0m\u001b[0;34m(\u001b[0m\u001b[0ma\u001b[0m\u001b[0;34m)\u001b[0m\u001b[0;34m\u001b[0m\u001b[0;34m\u001b[0m\u001b[0m\n",
      "\u001b[0;31mTypeError\u001b[0m: 'enumerate' object is not subscriptable"
     ]
    }
   ],
   "source": [
    "# https://github.com/python-openxml/python-docx/issues/13"
   ]
  }
 ],
 "metadata": {
  "kernelspec": {
   "display_name": "Python 3",
   "language": "python",
   "name": "python3"
  },
  "language_info": {
   "codemirror_mode": {
    "name": "ipython",
    "version": 3
   },
   "file_extension": ".py",
   "mimetype": "text/x-python",
   "name": "python",
   "nbconvert_exporter": "python",
   "pygments_lexer": "ipython3",
   "version": "3.7.3"
  }
 },
 "nbformat": 4,
 "nbformat_minor": 4
}
